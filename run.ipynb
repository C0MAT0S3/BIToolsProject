{
 "cells": [
  {
   "cell_type": "markdown",
   "id": "2b1c4731",
   "metadata": {},
   "source": [
    "# Bioinformatics Tools Course \n",
    "## Summer Term 25\n",
    "### Reproduction of [Paper Title](https://placeholder.url)\n",
    "\n",
    "\n",
    "*- Nicolai Oswald (5)*\n",
    "\n",
    "*- Thomas Vogel (5446810)*\n",
    "\n",
    "Conda/Mamba is **required**:\n"
   ]
  },
  {
   "cell_type": "markdown",
   "id": "2047dc20",
   "metadata": {},
   "source": [
    "## Step 1:"
   ]
  },
  {
   "cell_type": "code",
   "execution_count": null,
   "id": "93933fe9",
   "metadata": {
    "vscode": {
     "languageId": "shellscript"
    }
   },
   "outputs": [],
   "source": [
    "# Create environment from placeholder env.yml (requires Conda/Mamba)\n",
    "# Prefer mamba if installed; falls back to conda\n",
    "mamba env create -f env.yml || conda env create -f env.yml\n",
    "\n",
    "# Activate after creation (replace with actual name from env.yml)\n",
    "# conda activate <env_name>\n",
    "\n"
   ]
  },
  {
   "cell_type": "markdown",
   "id": "cad1e5c7",
   "metadata": {},
   "source": [
    "## Step 2:"
   ]
  },
  {
   "cell_type": "code",
   "execution_count": null,
   "id": "d7820c9c",
   "metadata": {
    "vscode": {
     "languageId": "shellscript"
    }
   },
   "outputs": [],
   "source": []
  },
  {
   "cell_type": "markdown",
   "id": "1ba6931d",
   "metadata": {},
   "source": [
    "## Step 3:"
   ]
  },
  {
   "cell_type": "code",
   "execution_count": null,
   "id": "b20c26b2",
   "metadata": {
    "vscode": {
     "languageId": "shellscript"
    }
   },
   "outputs": [],
   "source": []
  }
 ],
 "metadata": {
  "language_info": {
   "name": "python"
  }
 },
 "nbformat": 4,
 "nbformat_minor": 5
}
